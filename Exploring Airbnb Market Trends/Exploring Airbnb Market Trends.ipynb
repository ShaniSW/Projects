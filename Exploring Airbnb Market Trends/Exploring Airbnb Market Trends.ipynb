{
 "cells": [
  {
   "cell_type": "markdown",
   "id": "c747d469-ee97-4b95-880f-feefd5456042",
   "metadata": {
    "id": "bA5ajAmk7XH6"
   },
   "source": [
    "![NYC Skyline](nyc.jpg)\n",
    "\n",
    "Welcome to New York City, one of the most-visited cities in the world. There are many Airbnb listings in New York City to meet the high demand for temporary lodging for travelers, which can be anywhere between a few nights to many months. In this project, we will take a closer look at the New York Airbnb market by combining data from multiple file types like `.csv`, `.tsv`, and `.xlsx`.\n",
    "\n",
    "Recall that **CSV**, **TSV**, and **Excel** files are three common formats for storing data. \n",
    "Three files containing data on 2019 Airbnb listings are available to you:\n",
    "\n",
    "**data/airbnb_price.csv**\n",
    "This is a CSV file containing data on Airbnb listing prices and locations.\n",
    "- **`listing_id`**: unique identifier of listing\n",
    "- **`price`**: nightly listing price in USD\n",
    "- **`nbhood_full`**: name of borough and neighborhood where listing is located\n",
    "\n",
    "**data/airbnb_room_type.xlsx**\n",
    "This is an Excel file containing data on Airbnb listing descriptions and room types.\n",
    "- **`listing_id`**: unique identifier of listing\n",
    "- **`description`**: listing description\n",
    "- **`room_type`**: Airbnb has three types of rooms: shared rooms, private rooms, and entire homes/apartments\n",
    "\n",
    "**data/airbnb_last_review.tsv**\n",
    "This is a TSV file containing data on Airbnb host names and review dates.\n",
    "- **`listing_id`**: unique identifier of listing\n",
    "- **`host_name`**: name of listing host\n",
    "- **`last_review`**: date when the listing was last reviewed"
   ]
  },
  {
   "cell_type": "code",
   "execution_count": 8,
   "id": "1fdc5784-479e-46cb-b05b-68439dcc94a7",
   "metadata": {
    "executionCancelledAt": null,
    "executionTime": 12,
    "lastExecutedAt": 1715872824569,
    "lastExecutedByKernel": "9428344c-0abb-4dea-8225-2919cbaf5a6d",
    "lastScheduledRunId": null,
    "lastSuccessfullyExecutedCode": "# Import necessary packages\nimport pandas as pd\nimport numpy as np\n\n# Begin coding here ...\n# Use as many cells as you like",
    "outputsMetadata": {
     "0": {
      "height": 311,
      "type": "stream"
     }
    }
   },
   "outputs": [],
   "source": [
    "# Import necessary packages\n",
    "import pandas as pd\n",
    "import numpy as np\n",
    "\n",
    "# Begin coding here ...\n",
    "# Use as many cells as you like"
   ]
  },
  {
   "cell_type": "code",
   "execution_count": 9,
   "id": "4c96e84a-125b-4aee-966f-bb209f192e83",
   "metadata": {
    "executionCancelledAt": null,
    "executionTime": 31,
    "lastExecutedAt": 1715872831159,
    "lastExecutedByKernel": "9428344c-0abb-4dea-8225-2919cbaf5a6d",
    "lastScheduledRunId": null,
    "lastSuccessfullyExecutedCode": "prices = pd.read_csv('data/airbnb_price.csv')\nprint(prices)",
    "outputsMetadata": {
     "0": {
      "height": 325,
      "type": "stream"
     }
    }
   },
   "outputs": [
    {
     "name": "stdout",
     "output_type": "stream",
     "text": [
      "       listing_id        price                 nbhood_full\n",
      "0            2595  225 dollars          Manhattan, Midtown\n",
      "1            3831   89 dollars      Brooklyn, Clinton Hill\n",
      "2            5099  200 dollars      Manhattan, Murray Hill\n",
      "3            5178   79 dollars   Manhattan, Hell's Kitchen\n",
      "4            5238  150 dollars        Manhattan, Chinatown\n",
      "...           ...          ...                         ...\n",
      "25204    36425863  129 dollars  Manhattan, Upper East Side\n",
      "25205    36427429   45 dollars            Queens, Flushing\n",
      "25206    36438336  235 dollars  Staten Island, Great Kills\n",
      "25207    36442252  100 dollars           Bronx, Mott Haven\n",
      "25208    36455809   30 dollars          Brooklyn, Bushwick\n",
      "\n",
      "[25209 rows x 3 columns]\n"
     ]
    }
   ],
   "source": [
    "prices = pd.read_csv('data/airbnb_price.csv')\n",
    "print(prices)"
   ]
  },
  {
   "cell_type": "code",
   "execution_count": 17,
   "id": "ee5804d5-d7ef-43b0-836b-59c7666ce15c",
   "metadata": {
    "executionCancelledAt": null,
    "executionTime": 1414,
    "lastExecutedAt": 1715873200376,
    "lastExecutedByKernel": "9428344c-0abb-4dea-8225-2919cbaf5a6d",
    "lastScheduledRunId": null,
    "lastSuccessfullyExecutedCode": "rooms_type = pd.read_excel('data/airbnb_room_type.xlsx')\nprint(rooms_type)",
    "outputsMetadata": {
     "0": {
      "height": 325,
      "type": "stream"
     }
    }
   },
   "outputs": [
    {
     "name": "stdout",
     "output_type": "stream",
     "text": [
      "       listing_id                                 description        room_type\n",
      "0            2595                       Skylit Midtown Castle  Entire home/apt\n",
      "1            3831             Cozy Entire Floor of Brownstone  Entire home/apt\n",
      "2            5099   Large Cozy 1 BR Apartment In Midtown East  Entire home/apt\n",
      "3            5178             Large Furnished Room Near B'way     private room\n",
      "4            5238          Cute & Cozy Lower East Side 1 bdrm  Entire home/apt\n",
      "...           ...                                         ...              ...\n",
      "25204    36425863  Lovely Privet Bedroom with Privet Restroom     PRIVATE ROOM\n",
      "25205    36427429                    No.2 with queen size bed     PRIVATE ROOM\n",
      "25206    36438336                             Seas The Moment     Private room\n",
      "25207    36442252               1B-1B apartment near by Metro  Entire home/apt\n",
      "25208    36455809     Cozy Private Room in Bushwick, Brooklyn     Private room\n",
      "\n",
      "[25209 rows x 3 columns]\n"
     ]
    }
   ],
   "source": [
    "rooms_type = pd.read_excel('data/airbnb_room_type.xlsx')\n",
    "print(rooms_type)"
   ]
  },
  {
   "cell_type": "code",
   "execution_count": 12,
   "id": "dc7cf2f7-06b7-4a6d-a01d-e223e9715b00",
   "metadata": {
    "executionCancelledAt": null,
    "executionTime": 32,
    "lastExecutedAt": 1715872994163,
    "lastExecutedByKernel": "9428344c-0abb-4dea-8225-2919cbaf5a6d",
    "lastScheduledRunId": null,
    "lastSuccessfullyExecutedCode": "review = pd.read_csv('data/airbnb_last_review.tsv',sep='\\t')\n\nprint(review)",
    "outputsMetadata": {
     "0": {
      "height": 325,
      "type": "stream"
     }
    }
   },
   "outputs": [
    {
     "name": "stdout",
     "output_type": "stream",
     "text": [
      "       listing_id    host_name   last_review\n",
      "0            2595     Jennifer   May 21 2019\n",
      "1            3831  LisaRoxanne  July 05 2019\n",
      "2            5099        Chris  June 22 2019\n",
      "3            5178     Shunichi  June 24 2019\n",
      "4            5238          Ben  June 09 2019\n",
      "...           ...          ...           ...\n",
      "25204    36425863        Rusaa  July 07 2019\n",
      "25205    36427429         H Ai  July 07 2019\n",
      "25206    36438336          Ben  July 07 2019\n",
      "25207    36442252       Blaine  July 07 2019\n",
      "25208    36455809    Christine  July 08 2019\n",
      "\n",
      "[25209 rows x 3 columns]\n"
     ]
    }
   ],
   "source": [
    "review = pd.read_csv('data/airbnb_last_review.tsv',sep='\\t')\n",
    "\n",
    "print(review)"
   ]
  },
  {
   "cell_type": "markdown",
   "id": "82b4f18b-e28d-447d-b58d-8e16de6319e3",
   "metadata": {},
   "source": [
    "What are the dates of the earliest and most recent reviews? Store these values as two separate variables with your preferred names."
   ]
  },
  {
   "cell_type": "code",
   "execution_count": 13,
   "id": "7276262c-84bb-41c2-ac36-5dc8efaef61f",
   "metadata": {
    "executionCancelledAt": null,
    "executionTime": 16,
    "lastExecutedAt": 1715873108778,
    "lastExecutedByKernel": "9428344c-0abb-4dea-8225-2919cbaf5a6d",
    "lastScheduledRunId": null,
    "lastSuccessfullyExecutedCode": "last_review_date = pd.to_datetime(review['last_review'], format='%B %d %Y')\nfirst_reviewed = last_review_date.min()\nlast_reviewed = last_review_date.max()\n\nprint(first_reviewed)\nprint(last_reviewed)\n",
    "outputsMetadata": {
     "0": {
      "height": 61,
      "type": "stream"
     }
    }
   },
   "outputs": [
    {
     "name": "stdout",
     "output_type": "stream",
     "text": [
      "2019-01-01 00:00:00\n",
      "2019-07-09 00:00:00\n"
     ]
    }
   ],
   "source": [
    "last_review_date = pd.to_datetime(review['last_review'], format='%B %d %Y')\n",
    "first_reviewed = last_review_date.min()\n",
    "last_reviewed = last_review_date.max()\n",
    "\n",
    "print(first_reviewed)\n",
    "print(last_reviewed)\n"
   ]
  },
  {
   "cell_type": "markdown",
   "id": "28759266-481f-4bed-bcd5-5408f6307beb",
   "metadata": {},
   "source": [
    "How many of the listings are private rooms? Save this into any variable."
   ]
  },
  {
   "cell_type": "code",
   "execution_count": 18,
   "id": "32402042-c5e2-4dd9-9e52-dc68d500cc97",
   "metadata": {
    "executionCancelledAt": null,
    "executionTime": 23,
    "lastExecutedAt": 1715873224811,
    "lastExecutedByKernel": "9428344c-0abb-4dea-8225-2919cbaf5a6d",
    "lastScheduledRunId": null,
    "lastSuccessfullyExecutedCode": "rooms_type['room_type'] = rooms_type['room_type'].str.lower()\nprivate_room = rooms_type[rooms_type['room_type'] == 'private room'].count()\nnb_private_rooms = private_room['room_type']\n\nprint (nb_private_rooms) \n",
    "outputsMetadata": {
     "0": {
      "height": 39,
      "type": "stream"
     }
    }
   },
   "outputs": [
    {
     "name": "stdout",
     "output_type": "stream",
     "text": [
      "11356\n"
     ]
    }
   ],
   "source": [
    "rooms_type['room_type'] = rooms_type['room_type'].str.lower()\n",
    "private_room = rooms_type[rooms_type['room_type'] == 'private room'].count()\n",
    "nb_private_rooms = private_room['room_type']\n",
    "\n",
    "print(nb_private_rooms) \n"
   ]
  },
  {
   "cell_type": "markdown",
   "id": "f615ff5c-ed17-42a2-a581-50c802d92808",
   "metadata": {},
   "source": [
    "What is the average listing price? Round to the nearest two decimal places and save into a variable."
   ]
  },
  {
   "cell_type": "code",
   "execution_count": 19,
   "id": "0feaab44-52dc-41f4-8350-1cb69bd70d6d",
   "metadata": {
    "executionCancelledAt": null,
    "executionTime": 43,
    "lastExecutedAt": 1715873229757,
    "lastExecutedByKernel": "9428344c-0abb-4dea-8225-2919cbaf5a6d",
    "lastScheduledRunId": null,
    "lastSuccessfullyExecutedCode": "num = prices['price'].str.split('dollars').str[0].str.strip().astype(float)\navg_price = round(num.mean(),2)\n\nprint(avg_price)",
    "outputsMetadata": {
     "0": {
      "height": 39,
      "type": "stream"
     }
    }
   },
   "outputs": [
    {
     "name": "stdout",
     "output_type": "stream",
     "text": [
      "141.78\n"
     ]
    }
   ],
   "source": [
    "num = prices['price'].str.split('dollars').str[0].str.strip().astype(float)\n",
    "avg_price = round(num.mean(),2)\n",
    "\n",
    "print(avg_price)"
   ]
  },
  {
   "cell_type": "markdown",
   "id": "94ebaedc-e852-4c8b-95ce-934b7984e011",
   "metadata": {},
   "source": [
    "Combine the new variables into one DataFrame called review_dates with four columns in the following order: first_reviewed, last_reviewed, nb_private_rooms, and avg_price. The DataFrame should only contain one row of values."
   ]
  },
  {
   "cell_type": "code",
   "execution_count": 22,
   "id": "c0472ada-f678-4763-9999-ad76fe6ee22c",
   "metadata": {
    "executionCancelledAt": null,
    "executionTime": 18,
    "lastExecutedAt": 1715873607097,
    "lastExecutedByKernel": "9428344c-0abb-4dea-8225-2919cbaf5a6d",
    "lastScheduledRunId": null,
    "lastSuccessfullyExecutedCode": "review_dates = pd.DataFrame({\n    'first_reviewed': [first_reviewed],\n    'last_reviewed': [last_reviewed],\n    'nb_private_rooms': [nb_private_rooms],\n    'avg_price': [avg_price]\n})\n\nprint(review_dates)\n",
    "outputsMetadata": {
     "0": {
      "height": 61,
      "type": "stream"
     }
    }
   },
   "outputs": [
    {
     "name": "stdout",
     "output_type": "stream",
     "text": [
      "  first_reviewed last_reviewed  nb_private_rooms   avg_price\n",
      "0     2019-01-01    2019-07-09             11356  141.777936\n"
     ]
    }
   ],
   "source": [
    "review_dates = pd.DataFrame({\n",
    "    'first_reviewed': [first_reviewed],\n",
    "    'last_reviewed': [last_reviewed],\n",
    "    'nb_private_rooms': [nb_private_rooms],\n",
    "    'avg_price': [avg_price]\n",
    "})\n",
    "\n",
    "print(review_dates)\n"
   ]
  }
 ],
 "metadata": {
  "colab": {
   "name": "Welcome to DataCamp Workspaces.ipynb",
   "provenance": []
  },
  "editor": "DataLab",
  "kernelspec": {
   "display_name": "Python 3 (ipykernel)",
   "language": "python",
   "name": "python3"
  },
  "language_info": {
   "codemirror_mode": {
    "name": "ipython",
    "version": 3
   },
   "file_extension": ".py",
   "mimetype": "text/x-python",
   "name": "python",
   "nbconvert_exporter": "python",
   "pygments_lexer": "ipython3",
   "version": "3.11.5"
  }
 },
 "nbformat": 4,
 "nbformat_minor": 5
}
